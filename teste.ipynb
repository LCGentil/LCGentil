{
 "cells": [
  {
   "cell_type": "code",
   "execution_count": null,
   "id": "658ad110",
   "metadata": {},
   "outputs": [],
   "source": []
  },
  {
   "cell_type": "markdown",
   "id": "0a36efe3",
   "metadata": {},
   "source": [
    "![](imagens/Img_pwbi01.png)"
   ]
  },
  {
   "cell_type": "markdown",
   "id": "ffa34abf",
   "metadata": {},
   "source": [
    "![](imagens/Img_pwbi02.png)"
   ]
  },
  {
   "cell_type": "markdown",
   "id": "e991aeaa",
   "metadata": {},
   "source": [
    "![](imagens/Img_pwbi03.png)"
   ]
  },
  {
   "cell_type": "markdown",
   "id": "23d5696f",
   "metadata": {},
   "source": [
    "![](imagens/Img_pwbi04.png)"
   ]
  },
  {
   "cell_type": "markdown",
   "id": "2061bb05",
   "metadata": {},
   "source": [
    "![](imagens/Old/fuel.jpg)"
   ]
  },
  {
   "cell_type": "markdown",
   "id": "fb6e82ae",
   "metadata": {},
   "source": [
    "![](imagens/Old/Projeto2.png)"
   ]
  },
  {
   "cell_type": "markdown",
   "id": "e35b2830",
   "metadata": {},
   "source": [
    "![](imagens/Img_projeto8.png)"
   ]
  },
  {
   "cell_type": "code",
   "execution_count": null,
   "id": "db2874af",
   "metadata": {},
   "outputs": [],
   "source": []
  }
 ],
 "metadata": {
  "kernelspec": {
   "display_name": "Python 3 (ipykernel)",
   "language": "python",
   "name": "python3"
  },
  "language_info": {
   "codemirror_mode": {
    "name": "ipython",
    "version": 3
   },
   "file_extension": ".py",
   "mimetype": "text/x-python",
   "name": "python",
   "nbconvert_exporter": "python",
   "pygments_lexer": "ipython3",
   "version": "3.9.7"
  }
 },
 "nbformat": 4,
 "nbformat_minor": 5
}
